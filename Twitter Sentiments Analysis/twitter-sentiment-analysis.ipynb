{
 "cells": [
  {
   "cell_type": "markdown",
   "id": "9806f16a",
   "metadata": {
    "_cell_guid": "b1076dfc-b9ad-4769-8c92-a6c4dae69d19",
    "_uuid": "8f2839f25d086af736a60e9eeb907d3b93b6e0e5",
    "papermill": {
     "duration": 0.006354,
     "end_time": "2022-07-27T07:09:04.112822",
     "exception": false,
     "start_time": "2022-07-27T07:09:04.106468",
     "status": "completed"
    },
    "tags": []
   },
   "source": [
    "**Twitter Sentiment Analysis**"
   ]
  },
  {
   "cell_type": "code",
   "execution_count": 1,
   "id": "d2da4760",
   "metadata": {
    "execution": {
     "iopub.execute_input": "2022-07-27T07:09:04.125925Z",
     "iopub.status.busy": "2022-07-27T07:09:04.125171Z",
     "iopub.status.idle": "2022-07-27T07:09:18.718467Z",
     "shell.execute_reply": "2022-07-27T07:09:18.716851Z"
    },
    "papermill": {
     "duration": 14.603783,
     "end_time": "2022-07-27T07:09:18.722185",
     "exception": false,
     "start_time": "2022-07-27T07:09:04.118402",
     "status": "completed"
    },
    "tags": []
   },
   "outputs": [
    {
     "name": "stdout",
     "output_type": "stream",
     "text": [
      "Collecting tweepy\r\n",
      "  Downloading tweepy-4.10.0-py3-none-any.whl (94 kB)\r\n",
      "\u001b[2K     \u001b[90m━━━━━━━━━━━━━━━━━━━━━━━━━━━━━━━━━━━━━━━\u001b[0m \u001b[32m94.4/94.4 kB\u001b[0m \u001b[31m340.4 kB/s\u001b[0m eta \u001b[36m0:00:00\u001b[0m\r\n",
      "\u001b[?25hRequirement already satisfied: requests-oauthlib<2,>=1.2.0 in /opt/conda/lib/python3.7/site-packages (from tweepy) (1.3.1)\r\n",
      "Requirement already satisfied: requests<3,>=2.27.0 in /opt/conda/lib/python3.7/site-packages (from tweepy) (2.28.1)\r\n",
      "Requirement already satisfied: oauthlib<4,>=3.2.0 in /opt/conda/lib/python3.7/site-packages (from tweepy) (3.2.0)\r\n",
      "Requirement already satisfied: charset-normalizer<3,>=2 in /opt/conda/lib/python3.7/site-packages (from requests<3,>=2.27.0->tweepy) (2.1.0)\r\n",
      "Requirement already satisfied: certifi>=2017.4.17 in /opt/conda/lib/python3.7/site-packages (from requests<3,>=2.27.0->tweepy) (2022.6.15)\r\n",
      "Requirement already satisfied: idna<4,>=2.5 in /opt/conda/lib/python3.7/site-packages (from requests<3,>=2.27.0->tweepy) (3.3)\r\n",
      "Requirement already satisfied: urllib3<1.27,>=1.21.1 in /opt/conda/lib/python3.7/site-packages (from requests<3,>=2.27.0->tweepy) (1.26.9)\r\n",
      "Installing collected packages: tweepy\r\n",
      "Successfully installed tweepy-4.10.0\r\n",
      "\u001b[33mWARNING: Running pip as the 'root' user can result in broken permissions and conflicting behaviour with the system package manager. It is recommended to use a virtual environment instead: https://pip.pypa.io/warnings/venv\u001b[0m\u001b[33m\r\n",
      "\u001b[0mNote: you may need to restart the kernel to use updated packages.\n"
     ]
    }
   ],
   "source": [
    "pip install tweepy # important for live tweets"
   ]
  },
  {
   "cell_type": "code",
   "execution_count": 2,
   "id": "6b77f981",
   "metadata": {
    "execution": {
     "iopub.execute_input": "2022-07-27T07:09:18.737453Z",
     "iopub.status.busy": "2022-07-27T07:09:18.737047Z",
     "iopub.status.idle": "2022-07-27T07:09:20.485692Z",
     "shell.execute_reply": "2022-07-27T07:09:20.484387Z"
    },
    "papermill": {
     "duration": 1.759634,
     "end_time": "2022-07-27T07:09:20.488559",
     "exception": false,
     "start_time": "2022-07-27T07:09:18.728925",
     "status": "completed"
    },
    "tags": []
   },
   "outputs": [],
   "source": [
    "# Required Libraries \n",
    "import tweepy # to gather live twitter data\n",
    "from textblob import TextBlob # to perfom sentiment analysis\n",
    "from wordcloud import WordCloud\n",
    "import pandas as pd\n",
    "import numpy as np\n",
    "import re\n",
    "import matplotlib.pyplot as plt\n",
    "plt.style.use('fivethirtyeight')"
   ]
  },
  {
   "cell_type": "code",
   "execution_count": 3,
   "id": "268b34cc",
   "metadata": {
    "execution": {
     "iopub.execute_input": "2022-07-27T07:09:20.503071Z",
     "iopub.status.busy": "2022-07-27T07:09:20.502682Z",
     "iopub.status.idle": "2022-07-27T07:09:20.507743Z",
     "shell.execute_reply": "2022-07-27T07:09:20.506729Z"
    },
    "papermill": {
     "duration": 0.015057,
     "end_time": "2022-07-27T07:09:20.509969",
     "exception": false,
     "start_time": "2022-07-27T07:09:20.494912",
     "status": "completed"
    },
    "tags": []
   },
   "outputs": [],
   "source": [
    "# Twitter Api Credentials\n",
    "APIkey = \"2AAdSSAPRMxIAoSDzeUFNahKw\"\n",
    "APISecreatKey= \"BpO2ByEBOS4wwlgKx2lwv5WIExdspFp0EJZI07ZAkLWOQctYPb\"\n",
    "accessToken = \"1132872170822963201-1XiJbrxBZ2pTLc7iDFiwOn6jY88K13\"\n",
    "accessTokenSecreat = \"ewVnyts6yTkJsyan8U66duZSmSl2VCITD6D0GIO4AC9Km\""
   ]
  },
  {
   "cell_type": "code",
   "execution_count": 4,
   "id": "3dd070c9",
   "metadata": {
    "execution": {
     "iopub.execute_input": "2022-07-27T07:09:20.525193Z",
     "iopub.status.busy": "2022-07-27T07:09:20.524400Z",
     "iopub.status.idle": "2022-07-27T07:09:20.530167Z",
     "shell.execute_reply": "2022-07-27T07:09:20.529442Z"
    },
    "papermill": {
     "duration": 0.015913,
     "end_time": "2022-07-27T07:09:20.532337",
     "exception": false,
     "start_time": "2022-07-27T07:09:20.516424",
     "status": "completed"
    },
    "tags": []
   },
   "outputs": [],
   "source": [
    "authenticate = tweepy.OAuthHandler(APIkey, APISecreatKey)\n",
    "authenticate.set_access_token(accessToken, accessTokenSecreat)\n",
    "api= tweepy.API(authenticate, wait_on_rate_limit=True)"
   ]
  },
  {
   "cell_type": "code",
   "execution_count": 5,
   "id": "a4bd07f1",
   "metadata": {
    "execution": {
     "iopub.execute_input": "2022-07-27T07:09:20.547480Z",
     "iopub.status.busy": "2022-07-27T07:09:20.546844Z",
     "iopub.status.idle": "2022-07-27T07:09:21.226715Z",
     "shell.execute_reply": "2022-07-27T07:09:21.225101Z"
    },
    "papermill": {
     "duration": 0.690998,
     "end_time": "2022-07-27T07:09:21.229415",
     "exception": false,
     "start_time": "2022-07-27T07:09:20.538417",
     "status": "completed"
    },
    "tags": []
   },
   "outputs": [
    {
     "name": "stdout",
     "output_type": "stream",
     "text": [
      "1).@BenJohns_pb any tips for my form?\n",
      "\n",
      "2)Fifty years ago, I started playing this little-known sport with a funny name. Now it’s all the rage. https://t.co/arQqmcZsly\n",
      "\n"
     ]
    }
   ],
   "source": [
    "posts = api.user_timeline(screen_name=\"BillGates\", count=100, lang=\"hi\", tweet_mode=\"extended\")\n",
    "i=1\n",
    "for tweet in posts[:2]:\n",
    "    print(str(i)+')'+ tweet.full_text + '\\n')\n",
    "    i = i+1"
   ]
  },
  {
   "cell_type": "code",
   "execution_count": 6,
   "id": "6179ed35",
   "metadata": {
    "execution": {
     "iopub.execute_input": "2022-07-27T07:09:21.244681Z",
     "iopub.status.busy": "2022-07-27T07:09:21.243744Z",
     "iopub.status.idle": "2022-07-27T07:09:21.252749Z",
     "shell.execute_reply": "2022-07-27T07:09:21.251572Z"
    },
    "papermill": {
     "duration": 0.018945,
     "end_time": "2022-07-27T07:09:21.255041",
     "exception": false,
     "start_time": "2022-07-27T07:09:21.236096",
     "status": "completed"
    },
    "tags": []
   },
   "outputs": [],
   "source": [
    "df = pd.DataFrame([tweet.full_text for tweet in posts], columns=['Tweets'])"
   ]
  },
  {
   "cell_type": "code",
   "execution_count": 7,
   "id": "d4fad423",
   "metadata": {
    "execution": {
     "iopub.execute_input": "2022-07-27T07:09:21.269946Z",
     "iopub.status.busy": "2022-07-27T07:09:21.269240Z",
     "iopub.status.idle": "2022-07-27T07:09:21.287682Z",
     "shell.execute_reply": "2022-07-27T07:09:21.286738Z"
    },
    "papermill": {
     "duration": 0.02842,
     "end_time": "2022-07-27T07:09:21.289907",
     "exception": false,
     "start_time": "2022-07-27T07:09:21.261487",
     "status": "completed"
    },
    "tags": []
   },
   "outputs": [
    {
     "data": {
      "text/html": [
       "<div>\n",
       "<style scoped>\n",
       "    .dataframe tbody tr th:only-of-type {\n",
       "        vertical-align: middle;\n",
       "    }\n",
       "\n",
       "    .dataframe tbody tr th {\n",
       "        vertical-align: top;\n",
       "    }\n",
       "\n",
       "    .dataframe thead th {\n",
       "        text-align: right;\n",
       "    }\n",
       "</style>\n",
       "<table border=\"1\" class=\"dataframe\">\n",
       "  <thead>\n",
       "    <tr style=\"text-align: right;\">\n",
       "      <th></th>\n",
       "      <th>Tweets</th>\n",
       "    </tr>\n",
       "  </thead>\n",
       "  <tbody>\n",
       "    <tr>\n",
       "      <th>0</th>\n",
       "      <td>.@BenJohns_pb any tips for my form?</td>\n",
       "    </tr>\n",
       "    <tr>\n",
       "      <th>1</th>\n",
       "      <td>Fifty years ago, I started playing this little...</td>\n",
       "    </tr>\n",
       "    <tr>\n",
       "      <th>2</th>\n",
       "      <td>Hey @Discovery, sharks are cool, but mosquitoe...</td>\n",
       "    </tr>\n",
       "    <tr>\n",
       "      <th>3</th>\n",
       "      <td>From Malawi to the United States, new cases of...</td>\n",
       "    </tr>\n",
       "    <tr>\n",
       "      <th>4</th>\n",
       "      <td>This is heartbreaking. The world had made so m...</td>\n",
       "    </tr>\n",
       "  </tbody>\n",
       "</table>\n",
       "</div>"
      ],
      "text/plain": [
       "                                              Tweets\n",
       "0                .@BenJohns_pb any tips for my form?\n",
       "1  Fifty years ago, I started playing this little...\n",
       "2  Hey @Discovery, sharks are cool, but mosquitoe...\n",
       "3  From Malawi to the United States, new cases of...\n",
       "4  This is heartbreaking. The world had made so m..."
      ]
     },
     "execution_count": 7,
     "metadata": {},
     "output_type": "execute_result"
    }
   ],
   "source": [
    "df.head()"
   ]
  },
  {
   "cell_type": "code",
   "execution_count": 8,
   "id": "6ff37c1d",
   "metadata": {
    "execution": {
     "iopub.execute_input": "2022-07-27T07:09:21.305341Z",
     "iopub.status.busy": "2022-07-27T07:09:21.304663Z",
     "iopub.status.idle": "2022-07-27T07:09:21.310871Z",
     "shell.execute_reply": "2022-07-27T07:09:21.309779Z"
    },
    "papermill": {
     "duration": 0.016529,
     "end_time": "2022-07-27T07:09:21.313202",
     "exception": false,
     "start_time": "2022-07-27T07:09:21.296673",
     "status": "completed"
    },
    "tags": []
   },
   "outputs": [],
   "source": [
    "def cleanTxt(text):\n",
    "    text= re.sub('@[A-Za-z0-9]+','',text )\n",
    "    text= re.sub(\"#\",'', text)\n",
    "    text=re.sub('RT[\\s]+','',text)\n",
    "    text=re.sub('https?:\\/\\/\\S+','',text)\n",
    "    return text"
   ]
  },
  {
   "cell_type": "code",
   "execution_count": 9,
   "id": "d7c8c549",
   "metadata": {
    "execution": {
     "iopub.execute_input": "2022-07-27T07:09:21.328665Z",
     "iopub.status.busy": "2022-07-27T07:09:21.327503Z",
     "iopub.status.idle": "2022-07-27T07:09:21.337939Z",
     "shell.execute_reply": "2022-07-27T07:09:21.336862Z"
    },
    "papermill": {
     "duration": 0.020337,
     "end_time": "2022-07-27T07:09:21.340120",
     "exception": false,
     "start_time": "2022-07-27T07:09:21.319783",
     "status": "completed"
    },
    "tags": []
   },
   "outputs": [],
   "source": [
    "df['Tweets']= df['Tweets'].apply(cleanTxt)"
   ]
  },
  {
   "cell_type": "code",
   "execution_count": 10,
   "id": "b95e6714",
   "metadata": {
    "execution": {
     "iopub.execute_input": "2022-07-27T07:09:21.355111Z",
     "iopub.status.busy": "2022-07-27T07:09:21.354456Z",
     "iopub.status.idle": "2022-07-27T07:09:21.362859Z",
     "shell.execute_reply": "2022-07-27T07:09:21.362041Z"
    },
    "papermill": {
     "duration": 0.018216,
     "end_time": "2022-07-27T07:09:21.364905",
     "exception": false,
     "start_time": "2022-07-27T07:09:21.346689",
     "status": "completed"
    },
    "tags": []
   },
   "outputs": [
    {
     "data": {
      "text/html": [
       "<div>\n",
       "<style scoped>\n",
       "    .dataframe tbody tr th:only-of-type {\n",
       "        vertical-align: middle;\n",
       "    }\n",
       "\n",
       "    .dataframe tbody tr th {\n",
       "        vertical-align: top;\n",
       "    }\n",
       "\n",
       "    .dataframe thead th {\n",
       "        text-align: right;\n",
       "    }\n",
       "</style>\n",
       "<table border=\"1\" class=\"dataframe\">\n",
       "  <thead>\n",
       "    <tr style=\"text-align: right;\">\n",
       "      <th></th>\n",
       "      <th>Tweets</th>\n",
       "    </tr>\n",
       "  </thead>\n",
       "  <tbody>\n",
       "    <tr>\n",
       "      <th>0</th>\n",
       "      <td>._pb any tips for my form?</td>\n",
       "    </tr>\n",
       "    <tr>\n",
       "      <th>1</th>\n",
       "      <td>Fifty years ago, I started playing this little...</td>\n",
       "    </tr>\n",
       "    <tr>\n",
       "      <th>2</th>\n",
       "      <td>Hey , sharks are cool, but mosquitoes are dead...</td>\n",
       "    </tr>\n",
       "    <tr>\n",
       "      <th>3</th>\n",
       "      <td>From Malawi to the United States, new cases of...</td>\n",
       "    </tr>\n",
       "    <tr>\n",
       "      <th>4</th>\n",
       "      <td>This is heartbreaking. The world had made so m...</td>\n",
       "    </tr>\n",
       "  </tbody>\n",
       "</table>\n",
       "</div>"
      ],
      "text/plain": [
       "                                              Tweets\n",
       "0                         ._pb any tips for my form?\n",
       "1  Fifty years ago, I started playing this little...\n",
       "2  Hey , sharks are cool, but mosquitoes are dead...\n",
       "3  From Malawi to the United States, new cases of...\n",
       "4  This is heartbreaking. The world had made so m..."
      ]
     },
     "execution_count": 10,
     "metadata": {},
     "output_type": "execute_result"
    }
   ],
   "source": [
    "df.head()"
   ]
  },
  {
   "cell_type": "code",
   "execution_count": 11,
   "id": "4361bd34",
   "metadata": {
    "execution": {
     "iopub.execute_input": "2022-07-27T07:09:21.380316Z",
     "iopub.status.busy": "2022-07-27T07:09:21.379637Z",
     "iopub.status.idle": "2022-07-27T07:09:21.384960Z",
     "shell.execute_reply": "2022-07-27T07:09:21.383913Z"
    },
    "papermill": {
     "duration": 0.015674,
     "end_time": "2022-07-27T07:09:21.387180",
     "exception": false,
     "start_time": "2022-07-27T07:09:21.371506",
     "status": "completed"
    },
    "tags": []
   },
   "outputs": [],
   "source": [
    "def getSubjectivity(text):\n",
    "  return TextBlob(text).sentiment.subjectivity\n",
    "\n",
    "def getPolarity(text):\n",
    "  return TextBlob(text).sentiment.polarity\n"
   ]
  },
  {
   "cell_type": "code",
   "execution_count": 12,
   "id": "00ec0004",
   "metadata": {
    "execution": {
     "iopub.execute_input": "2022-07-27T07:09:21.402535Z",
     "iopub.status.busy": "2022-07-27T07:09:21.401734Z",
     "iopub.status.idle": "2022-07-27T07:09:21.546610Z",
     "shell.execute_reply": "2022-07-27T07:09:21.545581Z"
    },
    "papermill": {
     "duration": 0.155361,
     "end_time": "2022-07-27T07:09:21.549170",
     "exception": false,
     "start_time": "2022-07-27T07:09:21.393809",
     "status": "completed"
    },
    "tags": []
   },
   "outputs": [],
   "source": [
    "df['Tweet_Subjectivity'] = df['Tweets'].apply(getSubjectivity)\n",
    "df['Tweet_Polarity'] = df['Tweets'].apply(getPolarity)"
   ]
  },
  {
   "cell_type": "code",
   "execution_count": 13,
   "id": "ff839946",
   "metadata": {
    "execution": {
     "iopub.execute_input": "2022-07-27T07:09:21.564079Z",
     "iopub.status.busy": "2022-07-27T07:09:21.563686Z",
     "iopub.status.idle": "2022-07-27T07:09:21.576968Z",
     "shell.execute_reply": "2022-07-27T07:09:21.576066Z"
    },
    "papermill": {
     "duration": 0.023152,
     "end_time": "2022-07-27T07:09:21.579049",
     "exception": false,
     "start_time": "2022-07-27T07:09:21.555897",
     "status": "completed"
    },
    "tags": []
   },
   "outputs": [
    {
     "data": {
      "text/html": [
       "<div>\n",
       "<style scoped>\n",
       "    .dataframe tbody tr th:only-of-type {\n",
       "        vertical-align: middle;\n",
       "    }\n",
       "\n",
       "    .dataframe tbody tr th {\n",
       "        vertical-align: top;\n",
       "    }\n",
       "\n",
       "    .dataframe thead th {\n",
       "        text-align: right;\n",
       "    }\n",
       "</style>\n",
       "<table border=\"1\" class=\"dataframe\">\n",
       "  <thead>\n",
       "    <tr style=\"text-align: right;\">\n",
       "      <th></th>\n",
       "      <th>Tweets</th>\n",
       "      <th>Tweet_Subjectivity</th>\n",
       "      <th>Tweet_Polarity</th>\n",
       "    </tr>\n",
       "  </thead>\n",
       "  <tbody>\n",
       "    <tr>\n",
       "      <th>0</th>\n",
       "      <td>._pb any tips for my form?</td>\n",
       "      <td>0.000000</td>\n",
       "      <td>0.000000</td>\n",
       "    </tr>\n",
       "    <tr>\n",
       "      <th>1</th>\n",
       "      <td>Fifty years ago, I started playing this little...</td>\n",
       "      <td>1.000000</td>\n",
       "      <td>0.250000</td>\n",
       "    </tr>\n",
       "    <tr>\n",
       "      <th>2</th>\n",
       "      <td>Hey , sharks are cool, but mosquitoes are dead...</td>\n",
       "      <td>0.516667</td>\n",
       "      <td>0.216667</td>\n",
       "    </tr>\n",
       "    <tr>\n",
       "      <th>3</th>\n",
       "      <td>From Malawi to the United States, new cases of...</td>\n",
       "      <td>0.527273</td>\n",
       "      <td>0.418182</td>\n",
       "    </tr>\n",
       "    <tr>\n",
       "      <th>4</th>\n",
       "      <td>This is heartbreaking. The world had made so m...</td>\n",
       "      <td>0.100000</td>\n",
       "      <td>0.100000</td>\n",
       "    </tr>\n",
       "    <tr>\n",
       "      <th>5</th>\n",
       "      <td>Congratulations  for yet another milestone of ...</td>\n",
       "      <td>0.000000</td>\n",
       "      <td>0.000000</td>\n",
       "    </tr>\n",
       "    <tr>\n",
       "      <th>6</th>\n",
       "      <td>Mr. Mandela exemplified how we can fight for p...</td>\n",
       "      <td>1.000000</td>\n",
       "      <td>0.050000</td>\n",
       "    </tr>\n",
       "    <tr>\n",
       "      <th>7</th>\n",
       "      <td>This is one of my favorite photos ever. My dad...</td>\n",
       "      <td>0.666667</td>\n",
       "      <td>0.378788</td>\n",
       "    </tr>\n",
       "    <tr>\n",
       "      <th>8</th>\n",
       "      <td>Nelson Mandela's legacy lives on as a reminder...</td>\n",
       "      <td>0.466667</td>\n",
       "      <td>0.000000</td>\n",
       "    </tr>\n",
       "    <tr>\n",
       "      <th>9</th>\n",
       "      <td>Who better to recruit the next generation of c...</td>\n",
       "      <td>0.400000</td>\n",
       "      <td>0.288889</td>\n",
       "    </tr>\n",
       "    <tr>\n",
       "      <th>10</th>\n",
       "      <td>If we had stopped the COVID pandemic in less t...</td>\n",
       "      <td>0.066667</td>\n",
       "      <td>-0.166667</td>\n",
       "    </tr>\n",
       "    <tr>\n",
       "      <th>11</th>\n",
       "      <td>I have an obligation to return my resources to...</td>\n",
       "      <td>0.875000</td>\n",
       "      <td>0.900000</td>\n",
       "    </tr>\n",
       "    <tr>\n",
       "      <th>12</th>\n",
       "      <td>As I look to the future, I plan to give virtua...</td>\n",
       "      <td>0.206944</td>\n",
       "      <td>-0.077778</td>\n",
       "    </tr>\n",
       "    <tr>\n",
       "      <th>13</th>\n",
       "      <td>Although the foundation bears our names, basic...</td>\n",
       "      <td>0.553571</td>\n",
       "      <td>0.273810</td>\n",
       "    </tr>\n",
       "    <tr>\n",
       "      <th>14</th>\n",
       "      <td>I am very proud of the foundation’s role in he...</td>\n",
       "      <td>0.450000</td>\n",
       "      <td>0.416667</td>\n",
       "    </tr>\n",
       "    <tr>\n",
       "      <th>15</th>\n",
       "      <td>With the support and guidance of our board, we...</td>\n",
       "      <td>0.700000</td>\n",
       "      <td>0.050000</td>\n",
       "    </tr>\n",
       "    <tr>\n",
       "      <th>16</th>\n",
       "      <td>Melinda and I started the  in 2000 because we ...</td>\n",
       "      <td>0.475000</td>\n",
       "      <td>0.387273</td>\n",
       "    </tr>\n",
       "    <tr>\n",
       "      <th>17</th>\n",
       "      <td>But I’m still optimistic. These setbacks are h...</td>\n",
       "      <td>0.275000</td>\n",
       "      <td>0.075000</td>\n",
       "    </tr>\n",
       "    <tr>\n",
       "      <th>18</th>\n",
       "      <td>The pandemic is one of the biggest setbacks in...</td>\n",
       "      <td>0.656250</td>\n",
       "      <td>0.125000</td>\n",
       "    </tr>\n",
       "    <tr>\n",
       "      <th>19</th>\n",
       "      <td>Several huge global setbacks over the past few...</td>\n",
       "      <td>0.293750</td>\n",
       "      <td>0.006250</td>\n",
       "    </tr>\n",
       "  </tbody>\n",
       "</table>\n",
       "</div>"
      ],
      "text/plain": [
       "                                               Tweets  Tweet_Subjectivity  \\\n",
       "0                          ._pb any tips for my form?            0.000000   \n",
       "1   Fifty years ago, I started playing this little...            1.000000   \n",
       "2   Hey , sharks are cool, but mosquitoes are dead...            0.516667   \n",
       "3   From Malawi to the United States, new cases of...            0.527273   \n",
       "4   This is heartbreaking. The world had made so m...            0.100000   \n",
       "5   Congratulations  for yet another milestone of ...            0.000000   \n",
       "6   Mr. Mandela exemplified how we can fight for p...            1.000000   \n",
       "7   This is one of my favorite photos ever. My dad...            0.666667   \n",
       "8   Nelson Mandela's legacy lives on as a reminder...            0.466667   \n",
       "9   Who better to recruit the next generation of c...            0.400000   \n",
       "10  If we had stopped the COVID pandemic in less t...            0.066667   \n",
       "11  I have an obligation to return my resources to...            0.875000   \n",
       "12  As I look to the future, I plan to give virtua...            0.206944   \n",
       "13  Although the foundation bears our names, basic...            0.553571   \n",
       "14  I am very proud of the foundation’s role in he...            0.450000   \n",
       "15  With the support and guidance of our board, we...            0.700000   \n",
       "16  Melinda and I started the  in 2000 because we ...            0.475000   \n",
       "17  But I’m still optimistic. These setbacks are h...            0.275000   \n",
       "18  The pandemic is one of the biggest setbacks in...            0.656250   \n",
       "19  Several huge global setbacks over the past few...            0.293750   \n",
       "\n",
       "    Tweet_Polarity  \n",
       "0         0.000000  \n",
       "1         0.250000  \n",
       "2         0.216667  \n",
       "3         0.418182  \n",
       "4         0.100000  \n",
       "5         0.000000  \n",
       "6         0.050000  \n",
       "7         0.378788  \n",
       "8         0.000000  \n",
       "9         0.288889  \n",
       "10       -0.166667  \n",
       "11        0.900000  \n",
       "12       -0.077778  \n",
       "13        0.273810  \n",
       "14        0.416667  \n",
       "15        0.050000  \n",
       "16        0.387273  \n",
       "17        0.075000  \n",
       "18        0.125000  \n",
       "19        0.006250  "
      ]
     },
     "execution_count": 13,
     "metadata": {},
     "output_type": "execute_result"
    }
   ],
   "source": [
    "df.head(20)"
   ]
  },
  {
   "cell_type": "code",
   "execution_count": 14,
   "id": "0fae0ae0",
   "metadata": {
    "execution": {
     "iopub.execute_input": "2022-07-27T07:09:21.595382Z",
     "iopub.status.busy": "2022-07-27T07:09:21.594719Z",
     "iopub.status.idle": "2022-07-27T07:09:22.252978Z",
     "shell.execute_reply": "2022-07-27T07:09:22.251679Z"
    },
    "papermill": {
     "duration": 0.675227,
     "end_time": "2022-07-27T07:09:22.261387",
     "exception": false,
     "start_time": "2022-07-27T07:09:21.586160",
     "status": "completed"
    },
    "tags": []
   },
   "outputs": [
    {
     "data": {
      "image/png": "[encoded data removed]",
      "text/plain": [
       "<Figure size 432x288 with 1 Axes>"
      ]
     },
     "metadata": {},
     "output_type": "display_data"
    }
   ],
   "source": [
    "# Word Cloud Visualization\n",
    "allwords= ' '.join([i for i in df['Tweets']])\n",
    "Cloud= WordCloud(width=500,height=300,random_state=0,max_font_size=100).generate(allwords)\n",
    "\n",
    "plt.imshow(Cloud)\n",
    "plt.show()"
   ]
  },
  {
   "cell_type": "code",
   "execution_count": 15,
   "id": "6c29eeec",
   "metadata": {
    "execution": {
     "iopub.execute_input": "2022-07-27T07:09:22.282569Z",
     "iopub.status.busy": "2022-07-27T07:09:22.282134Z",
     "iopub.status.idle": "2022-07-27T07:09:22.303337Z",
     "shell.execute_reply": "2022-07-27T07:09:22.302301Z"
    },
    "papermill": {
     "duration": 0.034491,
     "end_time": "2022-07-27T07:09:22.305712",
     "exception": false,
     "start_time": "2022-07-27T07:09:22.271221",
     "status": "completed"
    },
    "tags": []
   },
   "outputs": [
    {
     "data": {
      "text/html": [
       "<div>\n",
       "<style scoped>\n",
       "    .dataframe tbody tr th:only-of-type {\n",
       "        vertical-align: middle;\n",
       "    }\n",
       "\n",
       "    .dataframe tbody tr th {\n",
       "        vertical-align: top;\n",
       "    }\n",
       "\n",
       "    .dataframe thead th {\n",
       "        text-align: right;\n",
       "    }\n",
       "</style>\n",
       "<table border=\"1\" class=\"dataframe\">\n",
       "  <thead>\n",
       "    <tr style=\"text-align: right;\">\n",
       "      <th></th>\n",
       "      <th>Tweets</th>\n",
       "      <th>Tweet_Subjectivity</th>\n",
       "      <th>Tweet_Polarity</th>\n",
       "      <th>Analysis</th>\n",
       "    </tr>\n",
       "  </thead>\n",
       "  <tbody>\n",
       "    <tr>\n",
       "      <th>0</th>\n",
       "      <td>._pb any tips for my form?</td>\n",
       "      <td>0.000000</td>\n",
       "      <td>0.000000</td>\n",
       "      <td>Neutral</td>\n",
       "    </tr>\n",
       "    <tr>\n",
       "      <th>1</th>\n",
       "      <td>Fifty years ago, I started playing this little...</td>\n",
       "      <td>1.000000</td>\n",
       "      <td>0.250000</td>\n",
       "      <td>Positive</td>\n",
       "    </tr>\n",
       "    <tr>\n",
       "      <th>2</th>\n",
       "      <td>Hey , sharks are cool, but mosquitoes are dead...</td>\n",
       "      <td>0.516667</td>\n",
       "      <td>0.216667</td>\n",
       "      <td>Positive</td>\n",
       "    </tr>\n",
       "    <tr>\n",
       "      <th>3</th>\n",
       "      <td>From Malawi to the United States, new cases of...</td>\n",
       "      <td>0.527273</td>\n",
       "      <td>0.418182</td>\n",
       "      <td>Positive</td>\n",
       "    </tr>\n",
       "    <tr>\n",
       "      <th>4</th>\n",
       "      <td>This is heartbreaking. The world had made so m...</td>\n",
       "      <td>0.100000</td>\n",
       "      <td>0.100000</td>\n",
       "      <td>Positive</td>\n",
       "    </tr>\n",
       "    <tr>\n",
       "      <th>...</th>\n",
       "      <td>...</td>\n",
       "      <td>...</td>\n",
       "      <td>...</td>\n",
       "      <td>...</td>\n",
       "    </tr>\n",
       "    <tr>\n",
       "      <th>95</th>\n",
       "      <td>I had a great time answering questions on  yes...</td>\n",
       "      <td>0.625000</td>\n",
       "      <td>0.650000</td>\n",
       "      <td>Positive</td>\n",
       "    </tr>\n",
       "    <tr>\n",
       "      <th>96</th>\n",
       "      <td>I’m answering your questions now on :</td>\n",
       "      <td>0.000000</td>\n",
       "      <td>0.000000</td>\n",
       "      <td>Neutral</td>\n",
       "    </tr>\n",
       "    <tr>\n",
       "      <th>97</th>\n",
       "      <td>Hey, , it’s been a while. Ask me anything at 1...</td>\n",
       "      <td>0.000000</td>\n",
       "      <td>0.000000</td>\n",
       "      <td>Neutral</td>\n",
       "    </tr>\n",
       "    <tr>\n",
       "      <th>98</th>\n",
       "      <td>This warehouse is cool – for many reasons.</td>\n",
       "      <td>0.575000</td>\n",
       "      <td>0.425000</td>\n",
       "      <td>Positive</td>\n",
       "    </tr>\n",
       "    <tr>\n",
       "      <th>99</th>\n",
       "      <td>I hope the spirit of Paul Farmer’s work lives ...</td>\n",
       "      <td>0.000000</td>\n",
       "      <td>0.000000</td>\n",
       "      <td>Neutral</td>\n",
       "    </tr>\n",
       "  </tbody>\n",
       "</table>\n",
       "<p>100 rows × 4 columns</p>\n",
       "</div>"
      ],
      "text/plain": [
       "                                               Tweets  Tweet_Subjectivity  \\\n",
       "0                          ._pb any tips for my form?            0.000000   \n",
       "1   Fifty years ago, I started playing this little...            1.000000   \n",
       "2   Hey , sharks are cool, but mosquitoes are dead...            0.516667   \n",
       "3   From Malawi to the United States, new cases of...            0.527273   \n",
       "4   This is heartbreaking. The world had made so m...            0.100000   \n",
       "..                                                ...                 ...   \n",
       "95  I had a great time answering questions on  yes...            0.625000   \n",
       "96            I’m answering your questions now on :              0.000000   \n",
       "97  Hey, , it’s been a while. Ask me anything at 1...            0.000000   \n",
       "98        This warehouse is cool – for many reasons.             0.575000   \n",
       "99  I hope the spirit of Paul Farmer’s work lives ...            0.000000   \n",
       "\n",
       "    Tweet_Polarity  Analysis  \n",
       "0         0.000000   Neutral  \n",
       "1         0.250000  Positive  \n",
       "2         0.216667  Positive  \n",
       "3         0.418182  Positive  \n",
       "4         0.100000  Positive  \n",
       "..             ...       ...  \n",
       "95        0.650000  Positive  \n",
       "96        0.000000   Neutral  \n",
       "97        0.000000   Neutral  \n",
       "98        0.425000  Positive  \n",
       "99        0.000000   Neutral  \n",
       "\n",
       "[100 rows x 4 columns]"
      ]
     },
     "execution_count": 15,
     "metadata": {},
     "output_type": "execute_result"
    }
   ],
   "source": [
    "# Create a function to compute negative neutral and positive\n",
    "def getAnalysis(score):\n",
    "    if score<0:\n",
    "        return 'Negative'\n",
    "    elif score==0:\n",
    "        return 'Neutral'\n",
    "    else:\n",
    "        return 'Positive'\n",
    "\n",
    "df['Analysis']= df['Tweet_Polarity'].apply(getAnalysis)\n",
    "df"
   ]
  },
  {
   "cell_type": "code",
   "execution_count": null,
   "id": "52d9a4c0",
   "metadata": {
    "papermill": {
     "duration": 0.009471,
     "end_time": "2022-07-27T07:09:22.324732",
     "exception": false,
     "start_time": "2022-07-27T07:09:22.315261",
     "status": "completed"
    },
    "tags": []
   },
   "outputs": [],
   "source": []
  },
  {
   "cell_type": "code",
   "execution_count": null,
   "id": "7585e155",
   "metadata": {
    "papermill": {
     "duration": 0.010254,
     "end_time": "2022-07-27T07:09:22.344856",
     "exception": false,
     "start_time": "2022-07-27T07:09:22.334602",
     "status": "completed"
    },
    "tags": []
   },
   "outputs": [],
   "source": []
  }
 ],
 "metadata": {
  "kernelspec": {
   "display_name": "Python 3",
   "language": "python",
   "name": "python3"
  },
  "language_info": {
   "codemirror_mode": {
    "name": "ipython",
    "version": 3
   },
   "file_extension": ".py",
   "mimetype": "text/x-python",
   "name": "python",
   "nbconvert_exporter": "python",
   "pygments_lexer": "ipython3",
   "version": "3.7.12"
  },
  "papermill": {
   "default_parameters": {},
   "duration": 28.640042,
   "end_time": "2022-07-27T07:09:23.177147",
   "environment_variables": {},
   "exception": null,
   "input_path": "__notebook__.ipynb",
   "output_path": "__notebook__.ipynb",
   "parameters": {},
   "start_time": "2022-07-27T07:08:54.537105",
   "version": "2.3.4"
  }
 },
 "nbformat": 4,
 "nbformat_minor": 5
}
